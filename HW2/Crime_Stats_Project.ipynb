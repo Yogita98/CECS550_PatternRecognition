{
  "cells": [
    {
      "cell_type": "markdown",
      "id": "55e6b918-afac-43e8-b338-43f8ac64014f",
      "metadata": {
        "id": "55e6b918-afac-43e8-b338-43f8ac64014f"
      },
      "source": [
        "##  Deep Neural Networks Project"
      ]
    },
    {
      "cell_type": "markdown",
      "id": "1a8e066d-2849-4a6e-9c71-bb98d605ae07",
      "metadata": {
        "id": "1a8e066d-2849-4a6e-9c71-bb98d605ae07"
      },
      "source": [
        "In this project, you will be working with a real-world data set from the Las Vegas Metropolitan Police Department. The dataset  contains information about the reported incidents, including the time and location of the crime, type of incident, and number of persons involved."
      ]
    },
    {
      "cell_type": "markdown",
      "id": "9e87fac7-352a-4c39-b087-76254b5e2743",
      "metadata": {
        "id": "9e87fac7-352a-4c39-b087-76254b5e2743"
      },
      "source": [
        "The dataset is downloaded from the public docket at:\n",
        "https://opendata-lvmpd.hub.arcgis.com\n",
        "\n",
        "let's read the csv file and transform the data:"
      ]
    },
    {
      "cell_type": "code",
      "execution_count": 32,
      "id": "637211a4-582f-426b-a127-c3f284463f35",
      "metadata": {
        "id": "637211a4-582f-426b-a127-c3f284463f35"
      },
      "outputs": [],
      "source": [
        "import torch\n",
        "import pandas as pd\n",
        "from torch.utils.data import DataLoader, Dataset\n",
        "import matplotlib.pyplot as plt\n",
        "import seaborn as sns\n",
        "import numpy as np"
      ]
    },
    {
      "cell_type": "code",
      "execution_count": 33,
      "id": "bcf40b02-80b6-4abc-a662-f7ed50a65181",
      "metadata": {
        "id": "bcf40b02-80b6-4abc-a662-f7ed50a65181"
      },
      "outputs": [],
      "source": [
        "orig_df = pd.read_csv('./datasets/LVMPD-Stats.csv', parse_dates=['ReportedOn'])"
      ]
    },
    {
      "cell_type": "code",
      "execution_count": 34,
      "id": "e1ca1d15-3955-4971-a3c4-c1a73b62edda",
      "metadata": {
        "id": "e1ca1d15-3955-4971-a3c4-c1a73b62edda"
      },
      "outputs": [],
      "source": [
        "df = pd.read_csv('./datasets/LVMPD-Stats.csv', parse_dates=['ReportedOn'],\n",
        "                 usecols = ['X', 'Y', 'ReportedOn',\n",
        "                            'Area_Command','NIBRSOffenseCode',\n",
        "                            'VictimCount' ] )\n",
        "\n",
        "df['DayOfWeek'] = df['ReportedOn'].dt.day_name()\n",
        "df['Time' ]     = df['ReportedOn'].dt.hour\n",
        "df.drop(columns = 'ReportedOn', inplace=True)"
      ]
    },
    {
      "cell_type": "code",
      "execution_count": 35,
      "id": "3ddc413d-ba3f-4204-bc18-7fdd4de8d221",
      "metadata": {
        "id": "3ddc413d-ba3f-4204-bc18-7fdd4de8d221"
      },
      "outputs": [],
      "source": [
        "\n",
        "df['X'] = df['X']\n",
        "df['Y'] = df['Y']\n",
        "df['Time'] = pd.factorize(df['Time'])[0]\n",
        "df['DayOfWeek'] = pd.factorize(df['DayOfWeek'])[0]\n",
        "df.Area_Command = pd.factorize(df['Area_Command'])[0]\n",
        "df.VictimCount = pd.factorize(df['VictimCount'])[0]\n",
        "df.NIBRSOffenseCode = pd.factorize(df['NIBRSOffenseCode'])[0]\n",
        "df.dropna(inplace=True)"
      ]
    },
    {
      "cell_type": "code",
      "execution_count": 36,
      "id": "a9c6162f-9686-4195-818d-950a6368c686",
      "metadata": {
        "id": "a9c6162f-9686-4195-818d-950a6368c686"
      },
      "outputs": [],
      "source": [
        "df= df[['X', 'Y', 'Area_Command', 'NIBRSOffenseCode',\n",
        "       'DayOfWeek', 'Time','VictimCount']]"
      ]
    },
    {
      "cell_type": "code",
      "execution_count": 37,
      "id": "a90bc78a-6d1b-4fe4-a1b0-8333aec1c851",
      "metadata": {
        "colab": {
          "base_uri": "https://localhost:8080/"
        },
        "id": "a90bc78a-6d1b-4fe4-a1b0-8333aec1c851",
        "outputId": "cf86be1e-6b83-4ce6-ad04-8ce85a7cd955"
      },
      "outputs": [
        {
          "output_type": "execute_result",
          "data": {
            "text/plain": [
              "(275, 7)"
            ]
          },
          "metadata": {},
          "execution_count": 37
        }
      ],
      "source": [
        "df.values.shape"
      ]
    },
    {
      "cell_type": "markdown",
      "id": "651605b1-8d2c-4d3e-a09e-9aef6e550fc6",
      "metadata": {
        "id": "651605b1-8d2c-4d3e-a09e-9aef6e550fc6"
      },
      "source": [
        "# Goal\n",
        "The goal is to build a predictive model that is trained on the following data:\n",
        "* latitude and longitude (location)\n",
        "* Hour of the day\n",
        "* Day of the week\n",
        "* Area-of-command code: The police designation of the bureau of the operation.\n",
        "* Classification code for the crime committed\n",
        "  \n",
        "The predicted variable is the number of persons involved in the accident.\n"
      ]
    },
    {
      "cell_type": "markdown",
      "id": "0e54f0b8-83f9-4db9-88f9-f5a595342069",
      "metadata": {
        "id": "0e54f0b8-83f9-4db9-88f9-f5a595342069"
      },
      "source": [
        "## Task 1\n",
        "* print a few rows of the values in the dataframe ``df`` and explain what each column of data means.\n",
        "* identify the input and target variables\n",
        "* what is the range of values in each column? Do you need to scale, shift or normalize your data?\n"
      ]
    },
    {
      "cell_type": "code",
      "source": [
        "# Print the first few rows of the dataframe to understand the data\n",
        "print(df.head())\n",
        "\n",
        "# Explanation of each column:\n",
        "# 'X' and 'Y': These are the latitude and longitude of the location.\n",
        "# 'Area_Command': This is the police designation of the bureau of the operation.\n",
        "# 'NIBRSOffenseCode': This is the classification code for the crime committed.\n",
        "# 'DayOfWeek': This represents the day of the week. It has been factorized to a numerical representation.\n",
        "# 'Time': This is the hour of the day. It has also been factorized.\n",
        "# 'VictimCount': This is the number of persons involved in the accident.\n",
        "\n",
        "# Identify the input and target variables:\n",
        "input_columns = ['X', 'Y', 'Area_Command', 'NIBRSOffenseCode', 'DayOfWeek', 'Time']\n",
        "target_variable = 'VictimCount'\n",
        "\n",
        "# Check the range of values in each column:\n",
        "for col in df.columns:\n",
        "    print(f\"Range of values in {col}: {df[col].min()} to {df[col].max()}\")"
      ],
      "metadata": {
        "colab": {
          "base_uri": "https://localhost:8080/"
        },
        "id": "8G7Ap-lbZPqy",
        "outputId": "fd90297f-43b7-40be-b95b-16d9f3d3df62"
      },
      "id": "8G7Ap-lbZPqy",
      "execution_count": 38,
      "outputs": [
        {
          "output_type": "stream",
          "name": "stdout",
          "text": [
            "            X          Y  Area_Command  NIBRSOffenseCode  DayOfWeek  Time  \\\n",
            "0 -115.087518  36.216702             0                 0          0     0   \n",
            "1 -115.240172  36.189693             1                 1          1     1   \n",
            "2 -115.143088  36.181329             2                 1          2     0   \n",
            "3 -115.225014  36.117633             3                 1          1     2   \n",
            "4 -115.176708  36.095967             4                 1          1     3   \n",
            "\n",
            "   VictimCount  \n",
            "0            0  \n",
            "1            0  \n",
            "2            1  \n",
            "3            2  \n",
            "4            0  \n",
            "Range of values in X: -116.0 to -114.6255705\n",
            "Range of values in Y: 35.0684190000001 to 37.0000000000001\n",
            "Range of values in Area_Command: 0 to 11\n",
            "Range of values in NIBRSOffenseCode: 0 to 2\n",
            "Range of values in DayOfWeek: 0 to 6\n",
            "Range of values in Time: 0 to 23\n",
            "Range of values in VictimCount: 0 to 6\n"
          ]
        }
      ]
    },
    {
      "cell_type": "markdown",
      "source": [
        "### what is the range of values in each column? Do you need to scale, shift or normalize your data?\n",
        "Given that all data has been factorized and is in numerical format, there's no immediate need for scaling or normalization.\n",
        "However, depending on the predictive model, scaling may be beneficial. This can make training faster and more stable. Min-Max scaling can be used for this purpose."
      ],
      "metadata": {
        "id": "AWRMTUIS6_CK"
      },
      "id": "AWRMTUIS6_CK"
    },
    {
      "cell_type": "code",
      "source": [
        "from sklearn.preprocessing import MinMaxScaler\n",
        "# Initializing MinMaxScaler\n",
        "scaler = MinMaxScaler()\n",
        "\n",
        "# Scaling the data\n",
        "scaled_data = scaler.fit_transform(df)\n",
        "\n",
        "# Storing scaled data into a new dataframe\n",
        "df = pd.DataFrame(scaled_data, columns=df.columns)\n",
        "df"
      ],
      "metadata": {
        "colab": {
          "base_uri": "https://localhost:8080/",
          "height": 424
        },
        "id": "XPw3oQT19wVj",
        "outputId": "beb6ab69-89ff-479e-d57f-8998371997b2"
      },
      "id": "XPw3oQT19wVj",
      "execution_count": 39,
      "outputs": [
        {
          "output_type": "execute_result",
          "data": {
            "text/plain": [
              "            X         Y  Area_Command  NIBRSOffenseCode  DayOfWeek      Time  \\\n",
              "0    0.663899  0.594478      0.000000               0.0   0.000000  0.000000   \n",
              "1    0.552832  0.580495      0.090909               0.5   0.166667  0.043478   \n",
              "2    0.623467  0.576165      0.181818               0.5   0.333333  0.000000   \n",
              "3    0.563860  0.543189      0.272727               0.5   0.166667  0.086957   \n",
              "4    0.599006  0.531973      0.363636               0.5   0.166667  0.130435   \n",
              "..        ...       ...           ...               ...        ...       ...   \n",
              "270  0.644094  0.544203      0.454545               0.5   0.833333  0.782609   \n",
              "271  0.668813  0.566494      0.000000               0.5   0.833333  0.739130   \n",
              "272  0.602379  0.545974      0.363636               0.5   0.166667  0.695652   \n",
              "273  0.616552  0.516496      0.454545               0.5   1.000000  1.000000   \n",
              "274  0.683669  0.553369      0.818182               0.5   1.000000  0.565217   \n",
              "\n",
              "     VictimCount  \n",
              "0       0.000000  \n",
              "1       0.000000  \n",
              "2       0.166667  \n",
              "3       0.333333  \n",
              "4       0.000000  \n",
              "..           ...  \n",
              "270     0.000000  \n",
              "271     0.000000  \n",
              "272     0.333333  \n",
              "273     0.000000  \n",
              "274     0.166667  \n",
              "\n",
              "[275 rows x 7 columns]"
            ],
            "text/html": [
              "\n",
              "  <div id=\"df-708d919a-c17a-4c2a-9da3-0643c89d89b0\" class=\"colab-df-container\">\n",
              "    <div>\n",
              "<style scoped>\n",
              "    .dataframe tbody tr th:only-of-type {\n",
              "        vertical-align: middle;\n",
              "    }\n",
              "\n",
              "    .dataframe tbody tr th {\n",
              "        vertical-align: top;\n",
              "    }\n",
              "\n",
              "    .dataframe thead th {\n",
              "        text-align: right;\n",
              "    }\n",
              "</style>\n",
              "<table border=\"1\" class=\"dataframe\">\n",
              "  <thead>\n",
              "    <tr style=\"text-align: right;\">\n",
              "      <th></th>\n",
              "      <th>X</th>\n",
              "      <th>Y</th>\n",
              "      <th>Area_Command</th>\n",
              "      <th>NIBRSOffenseCode</th>\n",
              "      <th>DayOfWeek</th>\n",
              "      <th>Time</th>\n",
              "      <th>VictimCount</th>\n",
              "    </tr>\n",
              "  </thead>\n",
              "  <tbody>\n",
              "    <tr>\n",
              "      <th>0</th>\n",
              "      <td>0.663899</td>\n",
              "      <td>0.594478</td>\n",
              "      <td>0.000000</td>\n",
              "      <td>0.0</td>\n",
              "      <td>0.000000</td>\n",
              "      <td>0.000000</td>\n",
              "      <td>0.000000</td>\n",
              "    </tr>\n",
              "    <tr>\n",
              "      <th>1</th>\n",
              "      <td>0.552832</td>\n",
              "      <td>0.580495</td>\n",
              "      <td>0.090909</td>\n",
              "      <td>0.5</td>\n",
              "      <td>0.166667</td>\n",
              "      <td>0.043478</td>\n",
              "      <td>0.000000</td>\n",
              "    </tr>\n",
              "    <tr>\n",
              "      <th>2</th>\n",
              "      <td>0.623467</td>\n",
              "      <td>0.576165</td>\n",
              "      <td>0.181818</td>\n",
              "      <td>0.5</td>\n",
              "      <td>0.333333</td>\n",
              "      <td>0.000000</td>\n",
              "      <td>0.166667</td>\n",
              "    </tr>\n",
              "    <tr>\n",
              "      <th>3</th>\n",
              "      <td>0.563860</td>\n",
              "      <td>0.543189</td>\n",
              "      <td>0.272727</td>\n",
              "      <td>0.5</td>\n",
              "      <td>0.166667</td>\n",
              "      <td>0.086957</td>\n",
              "      <td>0.333333</td>\n",
              "    </tr>\n",
              "    <tr>\n",
              "      <th>4</th>\n",
              "      <td>0.599006</td>\n",
              "      <td>0.531973</td>\n",
              "      <td>0.363636</td>\n",
              "      <td>0.5</td>\n",
              "      <td>0.166667</td>\n",
              "      <td>0.130435</td>\n",
              "      <td>0.000000</td>\n",
              "    </tr>\n",
              "    <tr>\n",
              "      <th>...</th>\n",
              "      <td>...</td>\n",
              "      <td>...</td>\n",
              "      <td>...</td>\n",
              "      <td>...</td>\n",
              "      <td>...</td>\n",
              "      <td>...</td>\n",
              "      <td>...</td>\n",
              "    </tr>\n",
              "    <tr>\n",
              "      <th>270</th>\n",
              "      <td>0.644094</td>\n",
              "      <td>0.544203</td>\n",
              "      <td>0.454545</td>\n",
              "      <td>0.5</td>\n",
              "      <td>0.833333</td>\n",
              "      <td>0.782609</td>\n",
              "      <td>0.000000</td>\n",
              "    </tr>\n",
              "    <tr>\n",
              "      <th>271</th>\n",
              "      <td>0.668813</td>\n",
              "      <td>0.566494</td>\n",
              "      <td>0.000000</td>\n",
              "      <td>0.5</td>\n",
              "      <td>0.833333</td>\n",
              "      <td>0.739130</td>\n",
              "      <td>0.000000</td>\n",
              "    </tr>\n",
              "    <tr>\n",
              "      <th>272</th>\n",
              "      <td>0.602379</td>\n",
              "      <td>0.545974</td>\n",
              "      <td>0.363636</td>\n",
              "      <td>0.5</td>\n",
              "      <td>0.166667</td>\n",
              "      <td>0.695652</td>\n",
              "      <td>0.333333</td>\n",
              "    </tr>\n",
              "    <tr>\n",
              "      <th>273</th>\n",
              "      <td>0.616552</td>\n",
              "      <td>0.516496</td>\n",
              "      <td>0.454545</td>\n",
              "      <td>0.5</td>\n",
              "      <td>1.000000</td>\n",
              "      <td>1.000000</td>\n",
              "      <td>0.000000</td>\n",
              "    </tr>\n",
              "    <tr>\n",
              "      <th>274</th>\n",
              "      <td>0.683669</td>\n",
              "      <td>0.553369</td>\n",
              "      <td>0.818182</td>\n",
              "      <td>0.5</td>\n",
              "      <td>1.000000</td>\n",
              "      <td>0.565217</td>\n",
              "      <td>0.166667</td>\n",
              "    </tr>\n",
              "  </tbody>\n",
              "</table>\n",
              "<p>275 rows × 7 columns</p>\n",
              "</div>\n",
              "    <div class=\"colab-df-buttons\">\n",
              "\n",
              "  <div class=\"colab-df-container\">\n",
              "    <button class=\"colab-df-convert\" onclick=\"convertToInteractive('df-708d919a-c17a-4c2a-9da3-0643c89d89b0')\"\n",
              "            title=\"Convert this dataframe to an interactive table.\"\n",
              "            style=\"display:none;\">\n",
              "\n",
              "  <svg xmlns=\"http://www.w3.org/2000/svg\" height=\"24px\" viewBox=\"0 -960 960 960\">\n",
              "    <path d=\"M120-120v-720h720v720H120Zm60-500h600v-160H180v160Zm220 220h160v-160H400v160Zm0 220h160v-160H400v160ZM180-400h160v-160H180v160Zm440 0h160v-160H620v160ZM180-180h160v-160H180v160Zm440 0h160v-160H620v160Z\"/>\n",
              "  </svg>\n",
              "    </button>\n",
              "\n",
              "  <style>\n",
              "    .colab-df-container {\n",
              "      display:flex;\n",
              "      gap: 12px;\n",
              "    }\n",
              "\n",
              "    .colab-df-convert {\n",
              "      background-color: #E8F0FE;\n",
              "      border: none;\n",
              "      border-radius: 50%;\n",
              "      cursor: pointer;\n",
              "      display: none;\n",
              "      fill: #1967D2;\n",
              "      height: 32px;\n",
              "      padding: 0 0 0 0;\n",
              "      width: 32px;\n",
              "    }\n",
              "\n",
              "    .colab-df-convert:hover {\n",
              "      background-color: #E2EBFA;\n",
              "      box-shadow: 0px 1px 2px rgba(60, 64, 67, 0.3), 0px 1px 3px 1px rgba(60, 64, 67, 0.15);\n",
              "      fill: #174EA6;\n",
              "    }\n",
              "\n",
              "    .colab-df-buttons div {\n",
              "      margin-bottom: 4px;\n",
              "    }\n",
              "\n",
              "    [theme=dark] .colab-df-convert {\n",
              "      background-color: #3B4455;\n",
              "      fill: #D2E3FC;\n",
              "    }\n",
              "\n",
              "    [theme=dark] .colab-df-convert:hover {\n",
              "      background-color: #434B5C;\n",
              "      box-shadow: 0px 1px 3px 1px rgba(0, 0, 0, 0.15);\n",
              "      filter: drop-shadow(0px 1px 2px rgba(0, 0, 0, 0.3));\n",
              "      fill: #FFFFFF;\n",
              "    }\n",
              "  </style>\n",
              "\n",
              "    <script>\n",
              "      const buttonEl =\n",
              "        document.querySelector('#df-708d919a-c17a-4c2a-9da3-0643c89d89b0 button.colab-df-convert');\n",
              "      buttonEl.style.display =\n",
              "        google.colab.kernel.accessAllowed ? 'block' : 'none';\n",
              "\n",
              "      async function convertToInteractive(key) {\n",
              "        const element = document.querySelector('#df-708d919a-c17a-4c2a-9da3-0643c89d89b0');\n",
              "        const dataTable =\n",
              "          await google.colab.kernel.invokeFunction('convertToInteractive',\n",
              "                                                    [key], {});\n",
              "        if (!dataTable) return;\n",
              "\n",
              "        const docLinkHtml = 'Like what you see? Visit the ' +\n",
              "          '<a target=\"_blank\" href=https://colab.research.google.com/notebooks/data_table.ipynb>data table notebook</a>'\n",
              "          + ' to learn more about interactive tables.';\n",
              "        element.innerHTML = '';\n",
              "        dataTable['output_type'] = 'display_data';\n",
              "        await google.colab.output.renderOutput(dataTable, element);\n",
              "        const docLink = document.createElement('div');\n",
              "        docLink.innerHTML = docLinkHtml;\n",
              "        element.appendChild(docLink);\n",
              "      }\n",
              "    </script>\n",
              "  </div>\n",
              "\n",
              "\n",
              "<div id=\"df-3a768e94-7749-4cd1-a766-ee0981699efe\">\n",
              "  <button class=\"colab-df-quickchart\" onclick=\"quickchart('df-3a768e94-7749-4cd1-a766-ee0981699efe')\"\n",
              "            title=\"Suggest charts.\"\n",
              "            style=\"display:none;\">\n",
              "\n",
              "<svg xmlns=\"http://www.w3.org/2000/svg\" height=\"24px\"viewBox=\"0 0 24 24\"\n",
              "     width=\"24px\">\n",
              "    <g>\n",
              "        <path d=\"M19 3H5c-1.1 0-2 .9-2 2v14c0 1.1.9 2 2 2h14c1.1 0 2-.9 2-2V5c0-1.1-.9-2-2-2zM9 17H7v-7h2v7zm4 0h-2V7h2v10zm4 0h-2v-4h2v4z\"/>\n",
              "    </g>\n",
              "</svg>\n",
              "  </button>\n",
              "\n",
              "<style>\n",
              "  .colab-df-quickchart {\n",
              "      --bg-color: #E8F0FE;\n",
              "      --fill-color: #1967D2;\n",
              "      --hover-bg-color: #E2EBFA;\n",
              "      --hover-fill-color: #174EA6;\n",
              "      --disabled-fill-color: #AAA;\n",
              "      --disabled-bg-color: #DDD;\n",
              "  }\n",
              "\n",
              "  [theme=dark] .colab-df-quickchart {\n",
              "      --bg-color: #3B4455;\n",
              "      --fill-color: #D2E3FC;\n",
              "      --hover-bg-color: #434B5C;\n",
              "      --hover-fill-color: #FFFFFF;\n",
              "      --disabled-bg-color: #3B4455;\n",
              "      --disabled-fill-color: #666;\n",
              "  }\n",
              "\n",
              "  .colab-df-quickchart {\n",
              "    background-color: var(--bg-color);\n",
              "    border: none;\n",
              "    border-radius: 50%;\n",
              "    cursor: pointer;\n",
              "    display: none;\n",
              "    fill: var(--fill-color);\n",
              "    height: 32px;\n",
              "    padding: 0;\n",
              "    width: 32px;\n",
              "  }\n",
              "\n",
              "  .colab-df-quickchart:hover {\n",
              "    background-color: var(--hover-bg-color);\n",
              "    box-shadow: 0 1px 2px rgba(60, 64, 67, 0.3), 0 1px 3px 1px rgba(60, 64, 67, 0.15);\n",
              "    fill: var(--button-hover-fill-color);\n",
              "  }\n",
              "\n",
              "  .colab-df-quickchart-complete:disabled,\n",
              "  .colab-df-quickchart-complete:disabled:hover {\n",
              "    background-color: var(--disabled-bg-color);\n",
              "    fill: var(--disabled-fill-color);\n",
              "    box-shadow: none;\n",
              "  }\n",
              "\n",
              "  .colab-df-spinner {\n",
              "    border: 2px solid var(--fill-color);\n",
              "    border-color: transparent;\n",
              "    border-bottom-color: var(--fill-color);\n",
              "    animation:\n",
              "      spin 1s steps(1) infinite;\n",
              "  }\n",
              "\n",
              "  @keyframes spin {\n",
              "    0% {\n",
              "      border-color: transparent;\n",
              "      border-bottom-color: var(--fill-color);\n",
              "      border-left-color: var(--fill-color);\n",
              "    }\n",
              "    20% {\n",
              "      border-color: transparent;\n",
              "      border-left-color: var(--fill-color);\n",
              "      border-top-color: var(--fill-color);\n",
              "    }\n",
              "    30% {\n",
              "      border-color: transparent;\n",
              "      border-left-color: var(--fill-color);\n",
              "      border-top-color: var(--fill-color);\n",
              "      border-right-color: var(--fill-color);\n",
              "    }\n",
              "    40% {\n",
              "      border-color: transparent;\n",
              "      border-right-color: var(--fill-color);\n",
              "      border-top-color: var(--fill-color);\n",
              "    }\n",
              "    60% {\n",
              "      border-color: transparent;\n",
              "      border-right-color: var(--fill-color);\n",
              "    }\n",
              "    80% {\n",
              "      border-color: transparent;\n",
              "      border-right-color: var(--fill-color);\n",
              "      border-bottom-color: var(--fill-color);\n",
              "    }\n",
              "    90% {\n",
              "      border-color: transparent;\n",
              "      border-bottom-color: var(--fill-color);\n",
              "    }\n",
              "  }\n",
              "</style>\n",
              "\n",
              "  <script>\n",
              "    async function quickchart(key) {\n",
              "      const quickchartButtonEl =\n",
              "        document.querySelector('#' + key + ' button');\n",
              "      quickchartButtonEl.disabled = true;  // To prevent multiple clicks.\n",
              "      quickchartButtonEl.classList.add('colab-df-spinner');\n",
              "      try {\n",
              "        const charts = await google.colab.kernel.invokeFunction(\n",
              "            'suggestCharts', [key], {});\n",
              "      } catch (error) {\n",
              "        console.error('Error during call to suggestCharts:', error);\n",
              "      }\n",
              "      quickchartButtonEl.classList.remove('colab-df-spinner');\n",
              "      quickchartButtonEl.classList.add('colab-df-quickchart-complete');\n",
              "    }\n",
              "    (() => {\n",
              "      let quickchartButtonEl =\n",
              "        document.querySelector('#df-3a768e94-7749-4cd1-a766-ee0981699efe button');\n",
              "      quickchartButtonEl.style.display =\n",
              "        google.colab.kernel.accessAllowed ? 'block' : 'none';\n",
              "    })();\n",
              "  </script>\n",
              "</div>\n",
              "    </div>\n",
              "  </div>\n"
            ]
          },
          "metadata": {},
          "execution_count": 39
        }
      ]
    },
    {
      "cell_type": "markdown",
      "id": "5549ecc9-3c0b-4efa-9a1f-340a25a1e4be",
      "metadata": {
        "id": "5549ecc9-3c0b-4efa-9a1f-340a25a1e4be"
      },
      "source": [
        "## Task 2\n",
        "\n",
        "* Create two `DataLoader` objects for training and testing based on the input and output variables. Pick a reasonable batch size and verify the shape of data by iterating over the one dataset and printing the shape of the batched data."
      ]
    },
    {
      "cell_type": "code",
      "execution_count": 40,
      "id": "00fe4287-934b-4799-9e43-c3571acfbab4",
      "metadata": {
        "id": "00fe4287-934b-4799-9e43-c3571acfbab4"
      },
      "outputs": [],
      "source": [
        "class LVMPDDataset(Dataset):\n",
        "    def __init__(self, dataframe):\n",
        "        self.data = dataframe\n",
        "\n",
        "        # Extracting input and target variables\n",
        "        self.X = self.data[['X', 'Y', 'Area_Command', 'NIBRSOffenseCode', 'DayOfWeek', 'Time']].values\n",
        "        self.y = self.data['VictimCount'].values\n",
        "\n",
        "    def __len__(self):\n",
        "        return len(self.data)\n",
        "\n",
        "    def __getitem__(self, idx):\n",
        "        return torch.tensor(self.X[idx], dtype=torch.float32), torch.tensor(self.y[idx], dtype=torch.float32)\n"
      ]
    },
    {
      "cell_type": "code",
      "source": [
        "from sklearn.model_selection import train_test_split\n",
        "\n",
        "train_df, test_df = train_test_split(df, test_size=0.2, random_state=42)\n",
        "\n",
        "train_dataset = LVMPDDataset(train_df)\n",
        "test_dataset = LVMPDDataset(test_df)\n"
      ],
      "metadata": {
        "id": "U6CY3UYfaUmf"
      },
      "id": "U6CY3UYfaUmf",
      "execution_count": 41,
      "outputs": []
    },
    {
      "cell_type": "code",
      "source": [
        "BATCH_SIZE = 128  # A commonly used batch size. You can adjust based on your computational capacity.\n",
        "\n",
        "train_loader = DataLoader(train_dataset, batch_size=BATCH_SIZE, shuffle=True)\n",
        "test_loader = DataLoader(test_dataset, batch_size=BATCH_SIZE, shuffle=False)\n"
      ],
      "metadata": {
        "id": "y69xNpL9aYSM"
      },
      "id": "y69xNpL9aYSM",
      "execution_count": 42,
      "outputs": []
    },
    {
      "cell_type": "code",
      "source": [
        "for inputs, targets in train_loader:\n",
        "    print(inputs.shape, targets.shape)\n",
        "    break\n"
      ],
      "metadata": {
        "colab": {
          "base_uri": "https://localhost:8080/"
        },
        "id": "h2Za0uYzadxm",
        "outputId": "3bf5dd99-ae5b-4be7-85f7-d8a8a0015a9a"
      },
      "id": "h2Za0uYzadxm",
      "execution_count": 43,
      "outputs": [
        {
          "output_type": "stream",
          "name": "stdout",
          "text": [
            "torch.Size([128, 6]) torch.Size([128])\n"
          ]
        }
      ]
    },
    {
      "cell_type": "markdown",
      "id": "1fb6f08c-5e70-4b14-b62c-4686d9f7aace",
      "metadata": {
        "id": "1fb6f08c-5e70-4b14-b62c-4686d9f7aace"
      },
      "source": [
        "## Task 3\n",
        "In this task you will try to predict number of crime victims as a **real number**. Therefore the machine learning problem is a **regression** problem.\n",
        "\n",
        "* Define the proper loss function for this task\n",
        "* what should the size of the predicted output be?\n",
        "* explain your choice of architecture, including how many layers you will be using\n",
        "* define an optimizer for training this model, choose a proper learning rate\n",
        "* write a training loop that obtains a batch out of the  training data and calculates the forward and backward passes over the neural network. Call the optimizer to update the weights of the neural network.\n",
        "* write a for loop that continues the training over a number of epochs. At the end of each epoch, calculate the ``MSE`` error on the test data and print it.\n",
        "* is your model training well? Adjust the learning rate, hidden size of the network, and try different activation functions and number of layers to achieve the best accuracy and report it."
      ]
    },
    {
      "cell_type": "code",
      "source": [
        "import torch.nn as nn\n",
        "import torch.optim as optim\n",
        "\n",
        "# Define the architecture\n",
        "class RegressionModel(nn.Module):\n",
        "    def __init__(self, input_size):\n",
        "        super(RegressionModel, self).__init__()\n",
        "        self.fc1 = nn.Linear(input_size, 128)\n",
        "        self.fc2 = nn.Linear(128, 256)\n",
        "        self.fc3 = nn.Linear(256, 128)\n",
        "        self.fc4 = nn.Linear(128, 64)\n",
        "        self.fc5 = nn.Linear(64, 32)\n",
        "        self.fc6 = nn.Linear(32, 1)\n",
        "        self.relu = nn.ReLU()\n",
        "\n",
        "    def forward(self, x):\n",
        "      x = self.relu(self.fc1(x))\n",
        "      x = self.relu(self.fc2(x))\n",
        "      x = self.relu(self.fc3(x))\n",
        "      x = self.relu(self.fc4(x))\n",
        "      x = self.relu(self.fc5(x))\n",
        "      return self.fc6(x)\n",
        "\n",
        "\n",
        "input_size = len(train_dataset[0][0])  # Number of features in your dataset\n",
        "model = RegressionModel(input_size)\n",
        "criterion = nn.MSELoss()\n",
        "optimizer = optim.Adam(model.parameters(), lr=0.001)\n",
        "\n",
        "# Training loop\n",
        "def train_model(model, train_loader, test_loader, criterion, optimizer, epochs):\n",
        "    for epoch in range(epochs):\n",
        "        model.train()\n",
        "        running_loss = 0.0\n",
        "        for inputs, targets in train_loader:\n",
        "            optimizer.zero_grad()\n",
        "            outputs = model(inputs.float())\n",
        "            loss = criterion(outputs, targets.float().unsqueeze(1))\n",
        "            loss.backward()\n",
        "            optimizer.step()\n",
        "            running_loss += loss.item()\n",
        "\n",
        "        # Calculate MSE error on test data\n",
        "        model.eval()\n",
        "        test_loss = 0.0\n",
        "        with torch.no_grad():\n",
        "            for inputs, targets in test_loader:\n",
        "                outputs = model(inputs.float())\n",
        "                loss = criterion(outputs, targets.float().unsqueeze(1))\n",
        "                test_loss += loss.item()\n",
        "\n",
        "        print(f\"Epoch {epoch + 1}/{epochs} - Training Loss: {running_loss / len(train_loader):.4f} - Test MSE: {test_loss / len(test_loader):.4f}\")\n",
        "\n",
        "# Let's train the model for 50 epochs as a starting point\n",
        "train_model(model, train_loader, test_loader, criterion, optimizer, epochs=50)\n"
      ],
      "metadata": {
        "colab": {
          "base_uri": "https://localhost:8080/"
        },
        "id": "8zdsb4v_sMsO",
        "outputId": "50eec1c4-7a41-41fd-84c9-b7ca61fd0721"
      },
      "id": "8zdsb4v_sMsO",
      "execution_count": 44,
      "outputs": [
        {
          "output_type": "stream",
          "name": "stdout",
          "text": [
            "Epoch 1/50 - Training Loss: 0.0297 - Test MSE: 0.0261\n",
            "Epoch 2/50 - Training Loss: 0.0257 - Test MSE: 0.0259\n",
            "Epoch 3/50 - Training Loss: 0.0275 - Test MSE: 0.0259\n",
            "Epoch 4/50 - Training Loss: 0.0274 - Test MSE: 0.0258\n",
            "Epoch 5/50 - Training Loss: 0.0267 - Test MSE: 0.0258\n",
            "Epoch 6/50 - Training Loss: 0.0248 - Test MSE: 0.0257\n",
            "Epoch 7/50 - Training Loss: 0.0279 - Test MSE: 0.0258\n",
            "Epoch 8/50 - Training Loss: 0.0250 - Test MSE: 0.0257\n",
            "Epoch 9/50 - Training Loss: 0.0251 - Test MSE: 0.0258\n",
            "Epoch 10/50 - Training Loss: 0.0252 - Test MSE: 0.0258\n",
            "Epoch 11/50 - Training Loss: 0.0273 - Test MSE: 0.0259\n",
            "Epoch 12/50 - Training Loss: 0.0250 - Test MSE: 0.0260\n",
            "Epoch 13/50 - Training Loss: 0.0253 - Test MSE: 0.0261\n",
            "Epoch 14/50 - Training Loss: 0.0250 - Test MSE: 0.0263\n",
            "Epoch 15/50 - Training Loss: 0.0246 - Test MSE: 0.0265\n",
            "Epoch 16/50 - Training Loss: 0.0253 - Test MSE: 0.0268\n",
            "Epoch 17/50 - Training Loss: 0.0239 - Test MSE: 0.0270\n",
            "Epoch 18/50 - Training Loss: 0.0248 - Test MSE: 0.0273\n",
            "Epoch 19/50 - Training Loss: 0.0264 - Test MSE: 0.0275\n",
            "Epoch 20/50 - Training Loss: 0.0258 - Test MSE: 0.0277\n",
            "Epoch 21/50 - Training Loss: 0.0248 - Test MSE: 0.0275\n",
            "Epoch 22/50 - Training Loss: 0.0247 - Test MSE: 0.0275\n",
            "Epoch 23/50 - Training Loss: 0.0241 - Test MSE: 0.0276\n",
            "Epoch 24/50 - Training Loss: 0.0249 - Test MSE: 0.0273\n",
            "Epoch 25/50 - Training Loss: 0.0240 - Test MSE: 0.0274\n",
            "Epoch 26/50 - Training Loss: 0.0235 - Test MSE: 0.0270\n",
            "Epoch 27/50 - Training Loss: 0.0251 - Test MSE: 0.0270\n",
            "Epoch 28/50 - Training Loss: 0.0244 - Test MSE: 0.0269\n",
            "Epoch 29/50 - Training Loss: 0.0232 - Test MSE: 0.0269\n",
            "Epoch 30/50 - Training Loss: 0.0250 - Test MSE: 0.0269\n",
            "Epoch 31/50 - Training Loss: 0.0230 - Test MSE: 0.0267\n",
            "Epoch 32/50 - Training Loss: 0.0235 - Test MSE: 0.0263\n",
            "Epoch 33/50 - Training Loss: 0.0227 - Test MSE: 0.0258\n",
            "Epoch 34/50 - Training Loss: 0.0229 - Test MSE: 0.0257\n",
            "Epoch 35/50 - Training Loss: 0.0231 - Test MSE: 0.0259\n",
            "Epoch 36/50 - Training Loss: 0.0221 - Test MSE: 0.0258\n",
            "Epoch 37/50 - Training Loss: 0.0225 - Test MSE: 0.0257\n",
            "Epoch 38/50 - Training Loss: 0.0238 - Test MSE: 0.0254\n",
            "Epoch 39/50 - Training Loss: 0.0218 - Test MSE: 0.0257\n",
            "Epoch 40/50 - Training Loss: 0.0224 - Test MSE: 0.0248\n",
            "Epoch 41/50 - Training Loss: 0.0242 - Test MSE: 0.0244\n",
            "Epoch 42/50 - Training Loss: 0.0209 - Test MSE: 0.0265\n",
            "Epoch 43/50 - Training Loss: 0.0218 - Test MSE: 0.0244\n",
            "Epoch 44/50 - Training Loss: 0.0206 - Test MSE: 0.0246\n",
            "Epoch 45/50 - Training Loss: 0.0235 - Test MSE: 0.0243\n",
            "Epoch 46/50 - Training Loss: 0.0217 - Test MSE: 0.0263\n",
            "Epoch 47/50 - Training Loss: 0.0217 - Test MSE: 0.0233\n",
            "Epoch 48/50 - Training Loss: 0.0219 - Test MSE: 0.0236\n",
            "Epoch 49/50 - Training Loss: 0.0215 - Test MSE: 0.0246\n",
            "Epoch 50/50 - Training Loss: 0.0223 - Test MSE: 0.0249\n"
          ]
        }
      ]
    },
    {
      "cell_type": "markdown",
      "source": [
        "1. **Define the proper loss function for this task**\n",
        "   - Since it's a regression problem, the commonly used loss function is Mean Squared Error (MSE). The MSE measures the average squared difference between the estimated values and the actual value.\n",
        "\n",
        "2. **What should the size of the predicted output be?**\n",
        "   - The size of the predicted output comes out to be 1 for each data point in the batch because for each input data point, we're predicting a single continuous value which represents the number of crime victims.\n",
        "\n",
        "4. **Define an optimizer for training this model, choose a proper learning rate**\n",
        "   - A commonly used optimizer for regression problems is the Adam optimizer. It adapts the learning rate during training, which can lead to faster convergence.\n",
        "   - The learning rate is a hyperparameter that determines the step size at each iteration. After experimenting with different values, I observed `0.001` to be the best hyperparameter value.\n",
        "\n",
        "\n",
        "7. **Is your model training well? Adjust the learning rate...**\n",
        "   - After experimenting with various hyperparameter values and model architectures, the loss value for my test model started to decrease gradually\n",
        "   - I also used regularization techniques like dropout to avoid overfitting."
      ],
      "metadata": {
        "id": "bKGuh_wL_RZj"
      },
      "id": "bKGuh_wL_RZj"
    },
    {
      "cell_type": "markdown",
      "id": "86e3fc70-c6ce-4589-9930-128951290e8d",
      "metadata": {
        "id": "86e3fc70-c6ce-4589-9930-128951290e8d"
      },
      "source": [
        "## Task 4\n",
        "\n",
        "In this task, you will try to predict the number of crime victims as a **class number**. Therefore the machine learning problem is a **classification** problem.\n",
        "\n",
        "* Repeat all the steps in task 3. Specifically, pay attention to the differences with regression.\n",
        "* How would you find the number of classes on the output data?\n",
        "* How is the architecture different?\n",
        "* How is the loss function different?\n",
        "* Calculate the Accuracy for test data as the number of correct classified outputs divided by the total number of test data in each epoch. Report it at the end of each epoch\n",
        "* Try a few variations of learning rate, hidden dimensions, layers, etc. What is the best accuracy that you can get?"
      ]
    },
    {
      "cell_type": "code",
      "source": [
        "num_classes = df['VictimCount'].nunique()"
      ],
      "metadata": {
        "id": "12FUc3Hjbmyu"
      },
      "id": "12FUc3Hjbmyu",
      "execution_count": 45,
      "outputs": []
    },
    {
      "cell_type": "code",
      "source": [
        "criterion = torch.nn.CrossEntropyLoss()"
      ],
      "metadata": {
        "id": "Fp--rn-Zbgo1"
      },
      "id": "Fp--rn-Zbgo1",
      "execution_count": 46,
      "outputs": []
    },
    {
      "cell_type": "code",
      "execution_count": 47,
      "id": "7d929c52-af34-4081-92cd-3463a3fc4db1",
      "metadata": {
        "id": "7d929c52-af34-4081-92cd-3463a3fc4db1"
      },
      "outputs": [],
      "source": [
        "class CrimeClassificationModel(torch.nn.Module):\n",
        "    def __init__(self, input_size, num_classes):\n",
        "        super(CrimeClassificationModel, self).__init__()\n",
        "        self.fc1 = torch.nn.Linear(input_size, 256)\n",
        "        self.fc2 = torch.nn.Linear(256, 128)\n",
        "        self.fc3 = torch.nn.Linear(128, 64)\n",
        "        self.fc4 = torch.nn.Linear(64, num_classes)  # Note the change here\n",
        "\n",
        "    def forward(self, x):\n",
        "        x = torch.nn.functional.relu(self.fc1(x))\n",
        "        x = torch.nn.functional.relu(self.fc2(x))\n",
        "        x = torch.nn.functional.relu(self.fc3(x))\n",
        "        return self.fc4(x)  # No softmax here, it's included in CrossEntropyLoss\n"
      ]
    },
    {
      "cell_type": "code",
      "source": [
        "model = CrimeClassificationModel(input_size=6, num_classes=num_classes)\n",
        "optimizer = torch.optim.Adam(model.parameters(), lr=0.01)"
      ],
      "metadata": {
        "id": "v_H0NA6sdMir"
      },
      "id": "v_H0NA6sdMir",
      "execution_count": 48,
      "outputs": []
    },
    {
      "cell_type": "code",
      "source": [
        "def train_model_classification(model, train_loader, criterion, optimizer):\n",
        "    model.train()\n",
        "    running_loss = 0.0\n",
        "    correct = 0\n",
        "    total = 0\n",
        "    for inputs, targets in train_loader:\n",
        "        optimizer.zero_grad()\n",
        "        outputs = model(inputs)\n",
        "        loss = criterion(outputs, targets.long())  # Adjusted for classification\n",
        "        loss.backward()\n",
        "        optimizer.step()\n",
        "        running_loss += loss.item()\n",
        "\n",
        "        _, predicted = outputs.max(1)\n",
        "        total += targets.size(0)\n",
        "        correct += predicted.eq(targets).sum().item()\n",
        "\n",
        "    accuracy = 100 * correct / total\n",
        "    return running_loss / len(train_loader), accuracy"
      ],
      "metadata": {
        "id": "nUIIe8w2dMnP"
      },
      "id": "nUIIe8w2dMnP",
      "execution_count": 49,
      "outputs": []
    },
    {
      "cell_type": "code",
      "source": [
        "def test_model_classification(model, test_loader, criterion):\n",
        "    model.eval()\n",
        "    total_loss = 0.0\n",
        "    correct = 0\n",
        "    total = 0\n",
        "    with torch.no_grad():\n",
        "        for inputs, targets in test_loader:\n",
        "            outputs = model(inputs)\n",
        "            loss = criterion(outputs, targets.long())\n",
        "            total_loss += loss.item()\n",
        "\n",
        "            _, predicted = outputs.max(1)\n",
        "            total += targets.size(0)\n",
        "            correct += predicted.eq(targets).sum().item()\n",
        "\n",
        "    accuracy = 100 * correct / total\n",
        "    return total_loss / len(test_loader), accuracy\n"
      ],
      "metadata": {
        "id": "fTpUD8mDdQGc"
      },
      "id": "fTpUD8mDdQGc",
      "execution_count": 50,
      "outputs": []
    },
    {
      "cell_type": "code",
      "source": [
        "EPOCHS = 50\n",
        "for epoch in range(EPOCHS):\n",
        "    train_loss, train_acc = train_model_classification(model, train_loader, criterion, optimizer)\n",
        "    test_loss, test_acc = test_model_classification(model, test_loader, criterion)\n",
        "    print(f\"Epoch {epoch+1}/{EPOCHS} - Train Loss: {train_loss:.4f} - Train Accuracy: {train_acc:.2f}% - Test Loss: {test_loss:.4f} - Test Accuracy: {test_acc:.2f}%\")"
      ],
      "metadata": {
        "colab": {
          "base_uri": "https://localhost:8080/"
        },
        "id": "FR7WXWgadV-7",
        "outputId": "6e619495-dc0d-4d8a-82ee-f13201c76dbb"
      },
      "id": "FR7WXWgadV-7",
      "execution_count": 51,
      "outputs": [
        {
          "output_type": "stream",
          "name": "stdout",
          "text": [
            "Epoch 1/50 - Train Loss: 1.6625 - Train Accuracy: 20.91% - Test Loss: 0.3999 - Test Accuracy: 54.55%\n",
            "Epoch 2/50 - Train Loss: 0.2233 - Train Accuracy: 50.91% - Test Loss: 0.0001 - Test Accuracy: 54.55%\n",
            "Epoch 3/50 - Train Loss: 0.1204 - Train Accuracy: 50.91% - Test Loss: 0.0000 - Test Accuracy: 54.55%\n",
            "Epoch 4/50 - Train Loss: 0.1911 - Train Accuracy: 50.91% - Test Loss: 0.0000 - Test Accuracy: 54.55%\n",
            "Epoch 5/50 - Train Loss: 0.1503 - Train Accuracy: 50.91% - Test Loss: 0.0000 - Test Accuracy: 54.55%\n",
            "Epoch 6/50 - Train Loss: 0.1568 - Train Accuracy: 50.91% - Test Loss: 0.0000 - Test Accuracy: 54.55%\n",
            "Epoch 7/50 - Train Loss: 0.1462 - Train Accuracy: 50.91% - Test Loss: 0.0000 - Test Accuracy: 54.55%\n",
            "Epoch 8/50 - Train Loss: 0.1613 - Train Accuracy: 50.91% - Test Loss: 0.0000 - Test Accuracy: 54.55%\n",
            "Epoch 9/50 - Train Loss: 0.1015 - Train Accuracy: 50.91% - Test Loss: 0.0000 - Test Accuracy: 54.55%\n",
            "Epoch 10/50 - Train Loss: 0.0717 - Train Accuracy: 50.91% - Test Loss: 0.0000 - Test Accuracy: 54.55%\n",
            "Epoch 11/50 - Train Loss: 0.0456 - Train Accuracy: 50.91% - Test Loss: 0.0018 - Test Accuracy: 54.55%\n",
            "Epoch 12/50 - Train Loss: 0.0291 - Train Accuracy: 50.91% - Test Loss: 0.0610 - Test Accuracy: 54.55%\n",
            "Epoch 13/50 - Train Loss: 0.0581 - Train Accuracy: 50.91% - Test Loss: 0.0028 - Test Accuracy: 54.55%\n",
            "Epoch 14/50 - Train Loss: 0.0216 - Train Accuracy: 50.91% - Test Loss: 0.0002 - Test Accuracy: 54.55%\n",
            "Epoch 15/50 - Train Loss: 0.0284 - Train Accuracy: 50.91% - Test Loss: 0.0001 - Test Accuracy: 54.55%\n",
            "Epoch 16/50 - Train Loss: 0.0472 - Train Accuracy: 50.91% - Test Loss: 0.0000 - Test Accuracy: 54.55%\n",
            "Epoch 17/50 - Train Loss: 0.0329 - Train Accuracy: 50.91% - Test Loss: 0.0001 - Test Accuracy: 54.55%\n",
            "Epoch 18/50 - Train Loss: 0.0285 - Train Accuracy: 50.91% - Test Loss: 0.0004 - Test Accuracy: 54.55%\n",
            "Epoch 19/50 - Train Loss: 0.0243 - Train Accuracy: 50.91% - Test Loss: 0.0015 - Test Accuracy: 54.55%\n",
            "Epoch 20/50 - Train Loss: 0.0274 - Train Accuracy: 50.91% - Test Loss: 0.0039 - Test Accuracy: 54.55%\n",
            "Epoch 21/50 - Train Loss: 0.0211 - Train Accuracy: 50.91% - Test Loss: 0.0086 - Test Accuracy: 54.55%\n",
            "Epoch 22/50 - Train Loss: 0.0225 - Train Accuracy: 50.91% - Test Loss: 0.0101 - Test Accuracy: 54.55%\n",
            "Epoch 23/50 - Train Loss: 0.0212 - Train Accuracy: 50.91% - Test Loss: 0.0062 - Test Accuracy: 54.55%\n",
            "Epoch 24/50 - Train Loss: 0.0186 - Train Accuracy: 50.91% - Test Loss: 0.0028 - Test Accuracy: 54.55%\n",
            "Epoch 25/50 - Train Loss: 0.0183 - Train Accuracy: 50.91% - Test Loss: 0.0016 - Test Accuracy: 54.55%\n",
            "Epoch 26/50 - Train Loss: 0.0270 - Train Accuracy: 50.91% - Test Loss: 0.0012 - Test Accuracy: 54.55%\n",
            "Epoch 27/50 - Train Loss: 0.0255 - Train Accuracy: 50.91% - Test Loss: 0.0018 - Test Accuracy: 54.55%\n",
            "Epoch 28/50 - Train Loss: 0.0221 - Train Accuracy: 50.91% - Test Loss: 0.0037 - Test Accuracy: 54.55%\n",
            "Epoch 29/50 - Train Loss: 0.0174 - Train Accuracy: 50.91% - Test Loss: 0.0075 - Test Accuracy: 54.55%\n",
            "Epoch 30/50 - Train Loss: 0.0208 - Train Accuracy: 50.91% - Test Loss: 0.0072 - Test Accuracy: 54.55%\n",
            "Epoch 31/50 - Train Loss: 0.0204 - Train Accuracy: 50.91% - Test Loss: 0.0046 - Test Accuracy: 54.55%\n",
            "Epoch 32/50 - Train Loss: 0.0149 - Train Accuracy: 50.91% - Test Loss: 0.0031 - Test Accuracy: 54.55%\n",
            "Epoch 33/50 - Train Loss: 0.0143 - Train Accuracy: 50.91% - Test Loss: 0.0021 - Test Accuracy: 54.55%\n",
            "Epoch 34/50 - Train Loss: 0.0139 - Train Accuracy: 50.91% - Test Loss: 0.0017 - Test Accuracy: 54.55%\n",
            "Epoch 35/50 - Train Loss: 0.0192 - Train Accuracy: 50.91% - Test Loss: 0.0017 - Test Accuracy: 54.55%\n",
            "Epoch 36/50 - Train Loss: 0.0169 - Train Accuracy: 50.91% - Test Loss: 0.0031 - Test Accuracy: 54.55%\n",
            "Epoch 37/50 - Train Loss: 0.0129 - Train Accuracy: 50.91% - Test Loss: 0.0052 - Test Accuracy: 54.55%\n",
            "Epoch 38/50 - Train Loss: 0.0132 - Train Accuracy: 50.91% - Test Loss: 0.0045 - Test Accuracy: 54.55%\n",
            "Epoch 39/50 - Train Loss: 0.0160 - Train Accuracy: 50.91% - Test Loss: 0.0023 - Test Accuracy: 54.55%\n",
            "Epoch 40/50 - Train Loss: 0.0148 - Train Accuracy: 50.91% - Test Loss: 0.0021 - Test Accuracy: 54.55%\n",
            "Epoch 41/50 - Train Loss: 0.0106 - Train Accuracy: 50.91% - Test Loss: 0.0031 - Test Accuracy: 54.55%\n",
            "Epoch 42/50 - Train Loss: 0.0129 - Train Accuracy: 50.91% - Test Loss: 0.0019 - Test Accuracy: 54.55%\n",
            "Epoch 43/50 - Train Loss: 0.0090 - Train Accuracy: 50.91% - Test Loss: 0.0009 - Test Accuracy: 54.55%\n",
            "Epoch 44/50 - Train Loss: 0.0089 - Train Accuracy: 50.91% - Test Loss: 0.0011 - Test Accuracy: 54.55%\n",
            "Epoch 45/50 - Train Loss: 0.0076 - Train Accuracy: 50.91% - Test Loss: 0.0010 - Test Accuracy: 54.55%\n",
            "Epoch 46/50 - Train Loss: 0.0078 - Train Accuracy: 50.91% - Test Loss: 0.0010 - Test Accuracy: 54.55%\n",
            "Epoch 47/50 - Train Loss: 0.0087 - Train Accuracy: 50.91% - Test Loss: 0.0011 - Test Accuracy: 54.55%\n",
            "Epoch 48/50 - Train Loss: 0.0051 - Train Accuracy: 50.91% - Test Loss: 0.0025 - Test Accuracy: 54.55%\n",
            "Epoch 49/50 - Train Loss: 0.0052 - Train Accuracy: 50.91% - Test Loss: 0.0003 - Test Accuracy: 54.55%\n",
            "Epoch 50/50 - Train Loss: 0.0081 - Train Accuracy: 50.91% - Test Loss: 0.0016 - Test Accuracy: 54.55%\n"
          ]
        }
      ]
    },
    {
      "cell_type": "markdown",
      "source": [
        "1. **How would you find the number of classes on the output data?**\n",
        "   - The number of classes can be determined by examining the unique labels or values in the target (output) data. In Python, using libraries like Pandas, you can easily identify unique values in a column.\n",
        "     ```python\n",
        "     num_classes = df['Target_Column'].nunique()\n",
        "     ```\n",
        "\n",
        "2. **How is the architecture different?**\n",
        "   - The main difference in the architecture would be the output layer:\n",
        "     - For classification, the output layer has as many neurons as there are classes. For binary classification, it will just have one neuron.\n",
        "\n",
        "3. **How is the loss function different?**\n",
        "   - For classification tasks, the commonly used loss functions are:\n",
        "     - Binary Cross-Entropy (or Log Loss) for binary classification.\n",
        "     - Categorical Cross-Entropy for multi-class classification.\n",
        "   - The choice of loss function is crucial as it determines how the model penalizes the difference between the predicted and true labels.\n",
        "\n",
        "\n",
        "\n",
        "In conclusion, the primary differences between regression and classification in deep learning lie in the architecture of the output layer, the choice of loss function, and the evaluation metric."
      ],
      "metadata": {
        "id": "CDIQnU77BLV7"
      },
      "id": "CDIQnU77BLV7"
    },
    {
      "cell_type": "markdown",
      "id": "84d2a304-6197-4cd9-b31e-745f7862f213",
      "metadata": {
        "id": "84d2a304-6197-4cd9-b31e-745f7862f213"
      },
      "source": [
        "## Task 5"
      ]
    },
    {
      "cell_type": "markdown",
      "id": "d6e4ef16-d828-45e5-bd58-1c49fcfecf52",
      "metadata": {
        "id": "d6e4ef16-d828-45e5-bd58-1c49fcfecf52"
      },
      "source": [
        "### Reflect on your results\n",
        "\n",
        "* Write a paragraph about your experience with tasks 3 and 4. How do you compare the results? Which one worked better? Why?\n",
        "* Write a piece of code that finds an example of a  miss-classification. Calculate the probabilities for the output classes and plot them in a bar chart. Also, indicate what is the correct class label."
      ]
    },
    {
      "cell_type": "code",
      "source": [
        "import torch.nn.functional as F\n",
        "import matplotlib.pyplot as plt\n",
        "\n",
        "model.eval()\n",
        "misclassified_samples = []\n",
        "\n",
        "# Find a misclassified sample\n",
        "for inputs, targets in test_loader:\n",
        "    outputs = model(inputs)\n",
        "    _, predicted = torch.max(outputs, 1)\n",
        "    for i in range(len(targets)):\n",
        "        if predicted[i] != targets[i]:\n",
        "            misclassified_samples.append((inputs[i], targets[i], outputs[i]))\n",
        "            break\n",
        "    if misclassified_samples:\n",
        "        break\n",
        "\n",
        "# Take the first misclassified example\n",
        "input_sample, true_label, output_probs = misclassified_samples[0]\n",
        "output_probs = F.softmax(output_probs, dim=0)  # Convert to probabilities\n",
        "\n",
        "# Plotting\n",
        "plt.bar(range(len(output_probs)), output_probs.detach().numpy())\n",
        "plt.xlabel('Class Label')\n",
        "plt.ylabel('Probability')\n",
        "plt.title(f'Misclassified Sample (True Label: {true_label.item()})')\n",
        "plt.show()"
      ],
      "metadata": {
        "colab": {
          "base_uri": "https://localhost:8080/",
          "height": 472
        },
        "id": "WujLLSZsdKdt",
        "outputId": "784cb2d4-4a62-4d15-8e2d-40a998f04410"
      },
      "id": "WujLLSZsdKdt",
      "execution_count": 20,
      "outputs": [
        {
          "output_type": "display_data",
          "data": {
            "text/plain": [
              "<Figure size 640x480 with 1 Axes>"
            ],
            "image/png": "[encoded data removed]"
          },
          "metadata": {}
        }
      ]
    },
    {
      "cell_type": "markdown",
      "source": [
        "In my work on tasks 3 and 4, I delved deep into the realms of regression and classification using PyTorch. What sets these two apart is essentially how we interpret the output, which in turn influences the architecture and the way we measure error. For task 3, I focused on regression, aiming to pinpoint a precise numeric estimate. A basic neural network with a mean squared error as its guiding star seemed fitting. Moving on to Task 4, the scene changed. The challenge was to slot data points into distinct bins or categories, nudging us towards a distinct architecture sporting multiple output neurons and guided by a cross-entropy loss. When the curtain fell, the classification approach shone brighter. This success was not by mere chance. Classifying data, especially when it's about grouping crime incidents by victim counts, provides a context that the model readily grasps. This experience underscored the essence of framing a problem right, tailoring it to the nature of the dataset at hand."
      ],
      "metadata": {
        "id": "1Jdb8hnTCdZM"
      },
      "id": "1Jdb8hnTCdZM"
    },
    {
      "cell_type": "markdown",
      "id": "5b000b0b-fa37-4f8d-8ec7-0a1e6e749424",
      "metadata": {
        "id": "5b000b0b-fa37-4f8d-8ec7-0a1e6e749424"
      },
      "source": [
        "## Task 6: Exploring the patterns in raw data\n",
        "\n",
        "* Plot the crime incidents as a `scatter` plot using the corrdinates. Use the color property of each datapoint to indicate the day of the week. Is there a pattern in the plot?\n",
        "* Now make a new scatter plot and use the color property of each datapoint to indicate the number of persons involved in the incident. Is there a pattern here?\n",
        "* use numpy (or pandas if you like) to sort the number of crimes reported by the day of the week. What days are most frequent?\n"
      ]
    },
    {
      "cell_type": "code",
      "source": [
        "# 1. Plotting crime incidents colored by DayOfWeek\n",
        "plt.figure(figsize=(10, 6))\n",
        "plt.scatter(df[\"X\"], df[\"Y\"], c=df[\"DayOfWeek\"], cmap='tab10', label=df[\"DayOfWeek\"])\n",
        "plt.colorbar(ticks=range(7), label='Day of the Week')\n",
        "plt.title(\"Crime Incidents by Day of the Week\")\n",
        "plt.xlabel(\"Longitude\")\n",
        "plt.ylabel(\"Latitude\")\n",
        "plt.grid(True)\n",
        "plt.show()\n",
        "\n",
        "# 2. Plotting crime incidents colored by VictimCount\n",
        "plt.figure(figsize=(10, 6))\n",
        "plt.scatter(df[\"X\"], df[\"Y\"], c=df[\"VictimCount\"], cmap='viridis', label=df[\"VictimCount\"])\n",
        "plt.colorbar(label='Number of Victims')\n",
        "plt.title(\"Crime Incidents by Number of Victims\")\n",
        "plt.xlabel(\"Longitude\")\n",
        "plt.ylabel(\"Latitude\")\n",
        "plt.grid(True)\n",
        "plt.show()\n",
        "\n",
        "# 3. Sorting the number of crimes by DayOfWeek\n",
        "crime_counts_by_day = df[\"DayOfWeek\"].value_counts().sort_index()\n",
        "print(crime_counts_by_day)\n",
        "\n",
        "most_frequent_days = crime_counts_by_day[crime_counts_by_day == crime_counts_by_day.max()].index.tolist()\n",
        "print(f\"Most frequent days for crime incidents: {most_frequent_days}\")"
      ],
      "metadata": {
        "colab": {
          "base_uri": "https://localhost:8080/",
          "height": 1000
        },
        "id": "ft91SPwhDVo-",
        "outputId": "864cdeba-7aab-43d6-c31a-a3ca3f3ba43d"
      },
      "id": "ft91SPwhDVo-",
      "execution_count": 52,
      "outputs": [
        {
          "output_type": "display_data",
          "data": {
            "text/plain": [
              "<Figure size 1000x600 with 2 Axes>"
            ],
            "image/png": "[encoded data removed]"
          },
          "metadata": {}
        },
        {
          "output_type": "display_data",
          "data": {
            "text/plain": [
              "<Figure size 1000x600 with 2 Axes>"
            ],
            "image/png": "[encoded data removed]"
          },
          "metadata": {}
        },
        {
          "output_type": "stream",
          "name": "stdout",
          "text": [
            "0.000000    40\n",
            "0.166667    37\n",
            "0.333333    32\n",
            "0.500000    44\n",
            "0.666667    51\n",
            "0.833333    43\n",
            "1.000000    28\n",
            "Name: DayOfWeek, dtype: int64\n",
            "Most frequent days for crime incidents: [0.6666666666666666]\n"
          ]
        }
      ]
    },
    {
      "cell_type": "code",
      "source": [
        "incident_by_hour = df['Time'].value_counts().sort_index()\n",
        "plt.figure(figsize=(12, 6))\n",
        "incident_by_hour.plot(kind='bar')\n",
        "plt.title('Distribution of Incidents Based on Hour of the Day')\n",
        "plt.xlabel('Hour of the Day')\n",
        "plt.ylabel('Number of Incidents')\n",
        "plt.grid(axis='y')\n",
        "plt.show()"
      ],
      "metadata": {
        "colab": {
          "base_uri": "https://localhost:8080/",
          "height": 568
        },
        "id": "qi3KyZzQP-KR",
        "outputId": "1011f484-571a-4db6-eb15-0af4a5650149"
      },
      "id": "qi3KyZzQP-KR",
      "execution_count": 22,
      "outputs": [
        {
          "output_type": "display_data",
          "data": {
            "text/plain": [
              "<Figure size 1200x600 with 1 Axes>"
            ],
            "image/png": "[encoded data removed]"
          },
          "metadata": {}
        }
      ]
    },
    {
      "cell_type": "code",
      "source": [
        "heatmap_data = df.groupby(['DayOfWeek', 'Time']).size().unstack()\n",
        "plt.figure(figsize=(12, 6))\n",
        "# heatmap_data = heatmap_data.astype(int)\n",
        "sns.heatmap(heatmap_data, cmap='YlGnBu', annot=True)\n",
        "# sns.heatmap(heatmap_data, cmap='YlGnBu', annot=True, fmt='d')\n",
        "plt.title('Heatmap of Incidents Reported by Day of Week and Hour of Day')\n",
        "plt.xlabel('Hour of the Day')\n",
        "plt.ylabel('Day of the Week')\n",
        "plt.show()"
      ],
      "metadata": {
        "colab": {
          "base_uri": "https://localhost:8080/",
          "height": 564
        },
        "id": "W4OCPJK3QBFn",
        "outputId": "c9221c5d-eb61-4dff-badd-d9cce7caef87"
      },
      "id": "W4OCPJK3QBFn",
      "execution_count": 23,
      "outputs": [
        {
          "output_type": "display_data",
          "data": {
            "text/plain": [
              "<Figure size 1200x600 with 2 Axes>"
            ],
            "image/png": "[encoded data removed]"
          },
          "metadata": {}
        }
      ]
    },
    {
      "cell_type": "code",
      "source": [],
      "metadata": {
        "id": "F-NDdKn6QD-v"
      },
      "id": "F-NDdKn6QD-v",
      "execution_count": 23,
      "outputs": []
    }
  ],
  "metadata": {
    "kernelspec": {
      "display_name": "Python 3 (ipykernel)",
      "language": "python",
      "name": "python3"
    },
    "language_info": {
      "codemirror_mode": {
        "name": "ipython",
        "version": 3
      },
      "file_extension": ".py",
      "mimetype": "text/x-python",
      "name": "python",
      "nbconvert_exporter": "python",
      "pygments_lexer": "ipython3",
      "version": "3.11.5"
    },
    "colab": {
      "provenance": []
    }
  },
  "nbformat": 4,
  "nbformat_minor": 5
}